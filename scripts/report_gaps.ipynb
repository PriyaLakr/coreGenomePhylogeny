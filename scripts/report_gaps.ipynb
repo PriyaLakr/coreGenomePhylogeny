{
 "cells": [
  {
   "cell_type": "code",
   "execution_count": 1,
   "metadata": {},
   "outputs": [],
   "source": [
    "def cal_gaps_align(file_path,in_format):\n",
    "    \n",
    "    total_len=[]\n",
    "    without_gap_len = []\n",
    "    gaps_per = []\n",
    "    name=[]\n",
    "    from Bio import AlignIO\n",
    "    import pandas as pd\n",
    "    import os\n",
    "    \n",
    "    os.chdir(file_path)\n",
    "    \n",
    "    for file in os.listdir():\n",
    "        if file.endswith(in_format):\n",
    "            alignment = AlignIO.read(file, \"fasta\")\n",
    "            name.append(file)\n",
    "\n",
    "            nogap_alignment = []\n",
    "    \n",
    "            for i in range(len(alignment[0])):\n",
    "                if '-' not in alignment[:,i]:\n",
    "                    nogap_alignment.append(i)\n",
    "            \n",
    "            gaps=(len(alignment[0])-len(nogap_alignment))/len(alignment[0]) * 100\n",
    "     \n",
    "            total_len.append(len(alignment[0]))\n",
    "            without_gap_len.append(len(nogap_alignment))\n",
    "            gaps_per.append(gaps)\n",
    "        \n",
    "    results = pd.DataFrame({\"name\":pd.Series(name),\"total_len\":pd.Series(total_len),\"without_gap_len\":pd.Series(without_gap_len),\"gaps_per\":pd.Series(gaps_per)})\n",
    "    results.to_csv(\"result.csv\") "
   ]
  },
  {
   "cell_type": "code",
   "execution_count": 2,
   "metadata": {
    "scrolled": true
   },
   "outputs": [],
   "source": [
    "cal_gaps_align('/Users/priyalakra/Desktop/corePhylogeny/deino_out',in_format=\"fasta\")"
   ]
  },
  {
   "cell_type": "code",
   "execution_count": 15,
   "metadata": {
    "scrolled": true
   },
   "outputs": [
    {
     "name": "stdout",
     "output_type": "stream",
     "text": [
      "Converted 0 records\n",
      "Converted 0 records\n",
      "Converted 0 records\n",
      "Converted 0 records\n"
     ]
    }
   ],
   "source": [
    "from Bio import AlignIO\n",
    "from Bio import SeqIO\n",
    "import pandas as pd\n",
    "import os\n",
    "import numpy as np\n",
    "    \n",
    "os.chdir('/Users/priyalakra/Desktop/final.orfs3')\n",
    "\n",
    "for file in os.listdir():\n",
    "    if file.endswith(\"fas\"):\n",
    "        count = SeqIO.convert( file, \"nexus\",file, \"fasta\")\n",
    "        print(\"Converted %i records\" % count)\n",
    "       \n",
    "    "
   ]
  },
  {
   "cell_type": "code",
   "execution_count": 1,
   "metadata": {
    "scrolled": true
   },
   "outputs": [
    {
     "ename": "NameError",
     "evalue": "name 'align_array' is not defined",
     "output_type": "error",
     "traceback": [
      "\u001b[0;31m---------------------------------------------------------------------------\u001b[0m",
      "\u001b[0;31mNameError\u001b[0m                                 Traceback (most recent call last)",
      "\u001b[0;32m<ipython-input-1-49f947417dbb>\u001b[0m in \u001b[0;36m<module>\u001b[0;34m\u001b[0m\n\u001b[0;32m----> 1\u001b[0;31m \u001b[0malign_array\u001b[0m\u001b[0;34m\u001b[0m\u001b[0;34m\u001b[0m\u001b[0m\n\u001b[0m",
      "\u001b[0;31mNameError\u001b[0m: name 'align_array' is not defined"
     ]
    }
   ],
   "source": [
    "align_array"
   ]
  },
  {
   "cell_type": "code",
   "execution_count": null,
   "metadata": {},
   "outputs": [],
   "source": []
  },
  {
   "cell_type": "code",
   "execution_count": null,
   "metadata": {},
   "outputs": [],
   "source": []
  }
 ],
 "metadata": {
  "kernelspec": {
   "display_name": "Python 3",
   "language": "python",
   "name": "python3"
  },
  "language_info": {
   "codemirror_mode": {
    "name": "ipython",
    "version": 3
   },
   "file_extension": ".py",
   "mimetype": "text/x-python",
   "name": "python",
   "nbconvert_exporter": "python",
   "pygments_lexer": "ipython3",
   "version": "3.7.6"
  }
 },
 "nbformat": 4,
 "nbformat_minor": 4
}
