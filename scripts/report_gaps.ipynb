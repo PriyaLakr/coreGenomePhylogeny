{
 "cells": [
  {
   "cell_type": "code",
   "execution_count": 1,
   "metadata": {},
   "outputs": [],
   "source": [
    "def cal_gaps_align(file_path,in_format):\n",
    "    \n",
    "    total_len=[]\n",
    "    without_gap_len = []\n",
    "    gaps_per = []\n",
    "    name=[]\n",
    "    from Bio import AlignIO\n",
    "    import pandas as pd\n",
    "    import os\n",
    "    \n",
    "    os.chdir(file_path)\n",
    "    \n",
    "    for file in os.listdir():\n",
    "        if file.endswith(in_format):\n",
    "            alignment = AlignIO.read(file, \"fasta\")\n",
    "            name.append(file)\n",
    "\n",
    "            nogap_alignment = []\n",
    "    \n",
    "            for i in range(len(alignment[0])):\n",
    "                if '-' not in alignment[:,i]:\n",
    "                    nogap_alignment.append(i)\n",
    "            \n",
    "            gaps=(len(alignment[0])-len(nogap_alignment))/len(alignment[0]) * 100\n",
    "     \n",
    "            total_len.append(len(alignment[0]))\n",
    "            without_gap_len.append(len(nogap_alignment))\n",
    "            gaps_per.append(gaps)\n",
    "        \n",
    "    results = pd.DataFrame({\"name\":pd.Series(name),\"total_len\":pd.Series(total_len),\"without_gap_len\":pd.Series(without_gap_len),\"gaps_per\":pd.Series(gaps_per)})\n",
    "    results.to_csv(\"result.csv\") "
   ]
  },
  {
   "cell_type": "code",
   "execution_count": 2,
   "metadata": {
    "scrolled": true
   },
   "outputs": [],
   "source": [
    "cal_gaps_align('/Users/priyalakra/Desktop/corePhylogeny/deino_out',in_format=\"fasta\")"
   ]
  }
 
 
